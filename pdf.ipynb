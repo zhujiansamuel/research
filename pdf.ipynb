{
 "cells": [
  {
   "cell_type": "code",
   "execution_count": null,
   "metadata": {
    "collapsed": true
   },
   "outputs": [],
   "source": [
    "import PyPDF2"
   ]
  },
  {
   "cell_type": "code",
   "execution_count": null,
   "outputs": [],
   "source": [
    "#create file object variable\n",
    "#opening method will be rb\n",
    "pdffileobj=open('1.pdf','rb')\n",
    "\n",
    "#create reader variable that will read the pdffileobj\n",
    "pdfreader=PyPDF2.PdfFileReader(pdffileobj)\n",
    "\n",
    "#This will store the number of pages of this pdf file\n",
    "x=pdfreader.numPages\n",
    "\n",
    "#create a variable that will select the selected number of pages\n",
    "pageobj=pdfreader.getPage(x+1)\n",
    "\n",
    "#(x+1) because python indentation starts with 0.\n",
    "#create text variable which will store all text datafrom pdf file\n",
    "text=pageobj.extractText()\n",
    "\n",
    "#save the extracted data from pdf to a txt file\n",
    "#we will use file handling here\n",
    "#dont forget to put r before you put the file path\n",
    "#go to the file location copy the path by right clicking on the file\n",
    "#click properties and copy the location path and paste it here.\n",
    "#put \"\\\\your_txtfilename\"\n",
    "file1=open(r\"C:\\Users\\SIDDHI\\AppData\\Local\\Programs\\Python\\Python38\\\\1.txt\",\"a\")\n",
    "file1.writelines(text)"
   ],
   "metadata": {
    "collapsed": false,
    "pycharm": {
     "name": "#%%\n"
    }
   }
  }
 ],
 "metadata": {
  "kernelspec": {
   "display_name": "Python 3",
   "language": "python",
   "name": "python3"
  },
  "language_info": {
   "codemirror_mode": {
    "name": "ipython",
    "version": 2
   },
   "file_extension": ".py",
   "mimetype": "text/x-python",
   "name": "python",
   "nbconvert_exporter": "python",
   "pygments_lexer": "ipython2",
   "version": "2.7.6"
  }
 },
 "nbformat": 4,
 "nbformat_minor": 0
}