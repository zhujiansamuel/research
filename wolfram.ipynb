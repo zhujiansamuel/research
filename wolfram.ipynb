{
 "cells": [
  {
   "cell_type": "code",
   "execution_count": 1,
   "metadata": {
    "collapsed": true,
    "ExecuteTime": {
     "start_time": "2023-04-15T15:58:11.406553Z",
     "end_time": "2023-04-15T15:58:11.615256Z"
    }
   },
   "outputs": [],
   "source": [
    "from wolframclient.evaluation import WolframLanguageSession\n",
    "from wolframclient.language import wl, wlexpr"
   ]
  },
  {
   "cell_type": "code",
   "execution_count": 2,
   "outputs": [],
   "source": [
    "session = WolframLanguageSession()"
   ],
   "metadata": {
    "collapsed": false,
    "ExecuteTime": {
     "start_time": "2023-04-15T16:00:59.707240Z",
     "end_time": "2023-04-15T16:00:59.732370Z"
    }
   }
  },
  {
   "cell_type": "code",
   "execution_count": 4,
   "outputs": [],
   "source": [
    "session.evaluate(wlexpr('Range[5]'))"
   ],
   "metadata": {
    "collapsed": false,
    "ExecuteTime": {
     "start_time": "2023-04-15T16:14:34.088040Z",
     "end_time": "2023-04-15T16:14:34.113369Z"
    }
   }
  },
  {
   "cell_type": "code",
   "execution_count": 14,
   "outputs": [
    {
     "data": {
      "text/plain": "ResourceFunction[ResourceObject[{'Name': 'ToPythonFunction', 'ShortName': 'ToPythonFunction', 'UUID': 'e7a21351-b9ac-4f3e-9758-40b287d04cfe', 'ResourceType': 'Function', 'Version': '1.1.0', 'Description': 'Convert a Wolfram Language function to a Python function', 'RepositoryLocation': URL['https://www.wolframcloud.com/obj/resourcesystem/api/1.0'], 'SymbolName': 'FunctionRepository`$04775fe0ea3e426b82c7434e019a63ff`ToPythonFunction', 'FunctionLocation': CloudObject['https://www.wolframcloud.com/obj/91024b0d-ea86-4fa4-800a-4633a1fe43b3']}, (Rule[ResourceSystemBase, 'https://www.wolframcloud.com/obj/resourcesystem/api/1.0'],)]]"
     },
     "execution_count": 14,
     "metadata": {},
     "output_type": "execute_result"
    }
   ],
   "source": [
    "session.evaluate(wlexpr('ResourceFunction[\"ToPythonFunction\"]'))"
   ],
   "metadata": {
    "collapsed": false,
    "ExecuteTime": {
     "start_time": "2023-04-15T16:50:13.866208Z",
     "end_time": "2023-04-15T16:50:20.423390Z"
    }
   }
  },
  {
   "cell_type": "code",
   "execution_count": 20,
   "outputs": [
    {
     "name": "stderr",
     "output_type": "stream",
     "text": [
      "RawBoxes[StyleBox[RowBox[{ToPythonFunction, ::, func}], MessageName]]: Times[Power[E, Times[-0.5, Power[Plus[x, Times[-1, x0]], 2], Power[σϕ, -2]]], α] is not a Function[], a symbol defining a function, or a Python code string.\n",
      "RawBoxes[StyleBox[RowBox[{ToPythonFunction, ::, func}], MessageName]]: Times[Power[E, Times[-0.5, Power[Plus[x, Times[-1, x0]], 2], Power[σϕ, -2]]], α] is not a Function[], a symbol defining a function, or a Python code string.\n"
     ]
    }
   ],
   "source": [
    "expfunc=session.evaluate(wlexpr('ResourceFunction[\"ToPythonFunction\"][\\[Phi]st01D[\\[Alpha]_, \\[Sigma]\\[Phi]_, x0_, x_] =\\[Alpha]*Exp[-(x-x0)^2/(2 \\[Sigma]\\[Phi]^2)]]'))"
   ],
   "metadata": {
    "collapsed": false,
    "ExecuteTime": {
     "start_time": "2023-04-15T17:11:51.907397Z",
     "end_time": "2023-04-15T17:11:55.633074Z"
    }
   }
  },
  {
   "cell_type": "code",
   "execution_count": null,
   "outputs": [],
   "source": [],
   "metadata": {
    "collapsed": false
   }
  }
 ],
 "metadata": {
  "kernelspec": {
   "display_name": "Python 3",
   "language": "python",
   "name": "python3"
  },
  "language_info": {
   "codemirror_mode": {
    "name": "ipython",
    "version": 2
   },
   "file_extension": ".py",
   "mimetype": "text/x-python",
   "name": "python",
   "nbconvert_exporter": "python",
   "pygments_lexer": "ipython2",
   "version": "2.7.6"
  }
 },
 "nbformat": 4,
 "nbformat_minor": 0
}
